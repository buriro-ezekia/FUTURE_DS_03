{
  "nbformat": 4,
  "nbformat_minor": 0,
  "metadata": {
    "colab": {
      "provenance": [],
      "authorship_tag": "ABX9TyMgS16CTagnGe86JKPSTeeQ",
      "include_colab_link": true
    },
    "kernelspec": {
      "name": "python3",
      "display_name": "Python 3"
    },
    "language_info": {
      "name": "python"
    }
  },
  "cells": [
    {
      "cell_type": "markdown",
      "metadata": {
        "id": "view-in-github",
        "colab_type": "text"
      },
      "source": [
        "<a href=\"https://colab.research.google.com/github/buriro-ezekia/FUTURE_DS_03/blob/main/Buriro_Ezekia_Loan_Approval_Prediction_Model.ipynb\" target=\"_parent\"><img src=\"https://colab.research.google.com/assets/colab-badge.svg\" alt=\"Open In Colab\"/></a>"
      ]
    },
    {
      "cell_type": "code",
      "execution_count": 95,
      "metadata": {
        "id": "dBnhp8CUDDG6"
      },
      "outputs": [],
      "source": [
        "# Data Preprocessing\n",
        "# Step 1: Import necessary libraries\n",
        "import warnings\n",
        "import numpy as np\n",
        "import pandas as pd\n",
        "from sklearn.preprocessing import LabelEncoder, StandardScaler\n",
        "\n",
        "# Step 2: Load the dataset\n",
        "# Assuming the dataset is loaded into a pandas dataframe called df\n",
        "df = pd.read_csv('/content/loan.csv')  # Replace with your actual file path"
      ]
    },
    {
      "cell_type": "code",
      "source": [
        "print(df.head(10))"
      ],
      "metadata": {
        "colab": {
          "base_uri": "https://localhost:8080/"
        },
        "id": "fnAnjOMXSRCQ",
        "outputId": "52d578a7-9916-4e1f-8d28-941b913158cf"
      },
      "execution_count": 96,
      "outputs": [
        {
          "output_type": "stream",
          "name": "stdout",
          "text": [
            "    Loan_ID Gender Married Dependents     Education Self_Employed  \\\n",
            "0  LP001002   Male      No          0      Graduate            No   \n",
            "1  LP001003   Male     Yes          1      Graduate            No   \n",
            "2  LP001005   Male     Yes          0      Graduate           Yes   \n",
            "3  LP001006   Male     Yes          0  Not Graduate            No   \n",
            "4  LP001008   Male      No          0      Graduate            No   \n",
            "5  LP001011   Male     Yes          2      Graduate           Yes   \n",
            "6  LP001013   Male     Yes          0  Not Graduate            No   \n",
            "7  LP001014   Male     Yes         3+      Graduate            No   \n",
            "8  LP001018   Male     Yes          2      Graduate            No   \n",
            "9  LP001020   Male     Yes          1      Graduate            No   \n",
            "\n",
            "   ApplicantIncome  CoapplicantIncome  LoanAmount  Loan_Amount_Term  \\\n",
            "0             5849                0.0         NaN             360.0   \n",
            "1             4583             1508.0       128.0             360.0   \n",
            "2             3000                0.0        66.0             360.0   \n",
            "3             2583             2358.0       120.0             360.0   \n",
            "4             6000                0.0       141.0             360.0   \n",
            "5             5417             4196.0       267.0             360.0   \n",
            "6             2333             1516.0        95.0             360.0   \n",
            "7             3036             2504.0       158.0             360.0   \n",
            "8             4006             1526.0       168.0             360.0   \n",
            "9            12841            10968.0       349.0             360.0   \n",
            "\n",
            "   Credit_History Property_Area Loan_Status  \n",
            "0             1.0         Urban           Y  \n",
            "1             1.0         Rural           N  \n",
            "2             1.0         Urban           Y  \n",
            "3             1.0         Urban           Y  \n",
            "4             1.0         Urban           Y  \n",
            "5             1.0         Urban           Y  \n",
            "6             1.0         Urban           Y  \n",
            "7             0.0     Semiurban           N  \n",
            "8             1.0         Urban           Y  \n",
            "9             1.0     Semiurban           N  \n"
          ]
        }
      ]
    },
    {
      "cell_type": "code",
      "source": [
        "# Step 3: Handle Missing Values\n",
        "# Checking for missing values in the dataset\n",
        "print(\"Missing Values Before Preprocessing:\\n\", df.isnull().sum())\n",
        "\n",
        "\n",
        "\n",
        "\n"
      ],
      "metadata": {
        "colab": {
          "base_uri": "https://localhost:8080/"
        },
        "id": "P0zDnn3QEVje",
        "outputId": "6a635f0f-49de-495a-99d5-a01421ddfd43"
      },
      "execution_count": 97,
      "outputs": [
        {
          "output_type": "stream",
          "name": "stdout",
          "text": [
            "Missing Values Before Preprocessing:\n",
            " Loan_ID               0\n",
            "Gender               13\n",
            "Married               3\n",
            "Dependents           15\n",
            "Education             0\n",
            "Self_Employed        32\n",
            "ApplicantIncome       0\n",
            "CoapplicantIncome     0\n",
            "LoanAmount           22\n",
            "Loan_Amount_Term     14\n",
            "Credit_History       50\n",
            "Property_Area         0\n",
            "Loan_Status           0\n",
            "dtype: int64\n"
          ]
        }
      ]
    },
    {
      "cell_type": "code",
      "source": [
        "# Fill missing numerical values with the median\n",
        "df['LoanAmount'] = df['LoanAmount'].fillna(df['LoanAmount'].median())\n",
        "df['ApplicantIncome'] = df['ApplicantIncome'].fillna(df['ApplicantIncome'].median())\n",
        "df['CoapplicantIncome'] = df['CoapplicantIncome'].fillna(df['CoapplicantIncome'].median())\n",
        "\n",
        "# Fill missing categorical values with the mode\n",
        "df['Gender'] = df['Gender'].fillna(df['Gender'].mode()[0])\n",
        "df['Married'] = df['Married'].fillna(df['Married'].mode()[0])\n",
        "df['Education'] = df['Education'].fillna(df['Education'].mode()[0])\n",
        "df['Self_Employed'] = df['Self_Employed'].fillna(df['Self_Employed'].mode()[0])\n",
        "df['Property_Area'] = df['Property_Area'].fillna(df['Property_Area'].mode()[0])\n",
        "df['Credit_History'] = df['Credit_History'].fillna(df['Credit_History'].mode()[0])\n",
        "\n",
        "# Checking again for missing values after imputation\n",
        "print(\"\\nMissing Values After Preprocessing:\\n\", df.isnull().sum())\n"
      ],
      "metadata": {
        "colab": {
          "base_uri": "https://localhost:8080/"
        },
        "id": "_TCXj8BxQ_nZ",
        "outputId": "1f340485-ed40-4dad-b6f7-aebff144da4f"
      },
      "execution_count": 98,
      "outputs": [
        {
          "output_type": "stream",
          "name": "stdout",
          "text": [
            "\n",
            "Missing Values After Preprocessing:\n",
            " Loan_ID               0\n",
            "Gender                0\n",
            "Married               0\n",
            "Dependents           15\n",
            "Education             0\n",
            "Self_Employed         0\n",
            "ApplicantIncome       0\n",
            "CoapplicantIncome     0\n",
            "LoanAmount            0\n",
            "Loan_Amount_Term     14\n",
            "Credit_History        0\n",
            "Property_Area         0\n",
            "Loan_Status           0\n",
            "dtype: int64\n"
          ]
        }
      ]
    },
    {
      "cell_type": "code",
      "source": [
        "# Resolve the remaining missing values in the dataset\n",
        "# Fill missing values in 'Dependents' (categorical) with the mode\n",
        "df['Dependents'] = df['Dependents'].fillna(df['Dependents'].mode()[0])\n",
        "\n",
        "# Fill missing values in 'Loan_Amount_Term' (numerical) with the median\n",
        "df['Loan_Amount_Term'] = df['Loan_Amount_Term'].fillna(df['Loan_Amount_Term'].median())\n",
        "\n",
        "# Checking again for missing values after imputation\n",
        "print(\"\\nMissing Values After Preprocessing:\\n\", df.isnull().sum())\n"
      ],
      "metadata": {
        "colab": {
          "base_uri": "https://localhost:8080/"
        },
        "id": "g62ghiLoRxCg",
        "outputId": "c1d3d239-2a39-4b44-fb1c-90a2d257f5e8"
      },
      "execution_count": 99,
      "outputs": [
        {
          "output_type": "stream",
          "name": "stdout",
          "text": [
            "\n",
            "Missing Values After Preprocessing:\n",
            " Loan_ID              0\n",
            "Gender               0\n",
            "Married              0\n",
            "Dependents           0\n",
            "Education            0\n",
            "Self_Employed        0\n",
            "ApplicantIncome      0\n",
            "CoapplicantIncome    0\n",
            "LoanAmount           0\n",
            "Loan_Amount_Term     0\n",
            "Credit_History       0\n",
            "Property_Area        0\n",
            "Loan_Status          0\n",
            "dtype: int64\n"
          ]
        }
      ]
    },
    {
      "cell_type": "code",
      "source": [
        "# Step 4: Encode Categorical Variables\n",
        "# We use LabelEncoder to convert categorical columns into numeric values\n",
        "label_encoder = LabelEncoder()\n",
        "\n",
        "# Encoding 'Gender', 'Married', 'Education', 'Self_Employed', 'Property_Area'\n",
        "df['Gender'] = label_encoder.fit_transform(df['Gender'])\n",
        "df['Married'] = label_encoder.fit_transform(df['Married'])\n",
        "df['Education'] = label_encoder.fit_transform(df['Education'])\n",
        "df['Self_Employed'] = label_encoder.fit_transform(df['Self_Employed'])\n",
        "df['Property_Area'] = label_encoder.fit_transform(df['Property_Area'])\n",
        "\n",
        "# Encode 'Loan_Status' as 1 for 'Y' (approved) and 0 for 'N' (not approved)\n",
        "df['Loan_Status'] = df['Loan_Status'].map({'Y': 1, 'N': 0})\n",
        "\n",
        "print(\"\\nData After Encoding:\\n\", df.head())"
      ],
      "metadata": {
        "id": "3CcqlC1IFDvu",
        "colab": {
          "base_uri": "https://localhost:8080/"
        },
        "outputId": "f1947d3c-4172-45ba-eec8-f9b8af32a232"
      },
      "execution_count": 100,
      "outputs": [
        {
          "output_type": "stream",
          "name": "stdout",
          "text": [
            "\n",
            "Data After Encoding:\n",
            "     Loan_ID  Gender  Married Dependents  Education  Self_Employed  \\\n",
            "0  LP001002       1        0          0          0              0   \n",
            "1  LP001003       1        1          1          0              0   \n",
            "2  LP001005       1        1          0          0              1   \n",
            "3  LP001006       1        1          0          1              0   \n",
            "4  LP001008       1        0          0          0              0   \n",
            "\n",
            "   ApplicantIncome  CoapplicantIncome  LoanAmount  Loan_Amount_Term  \\\n",
            "0             5849                0.0       128.0             360.0   \n",
            "1             4583             1508.0       128.0             360.0   \n",
            "2             3000                0.0        66.0             360.0   \n",
            "3             2583             2358.0       120.0             360.0   \n",
            "4             6000                0.0       141.0             360.0   \n",
            "\n",
            "   Credit_History  Property_Area  Loan_Status  \n",
            "0             1.0              2            1  \n",
            "1             1.0              0            0  \n",
            "2             1.0              2            1  \n",
            "3             1.0              2            1  \n",
            "4             1.0              2            1  \n"
          ]
        }
      ]
    },
    {
      "cell_type": "code",
      "source": [
        "# # Step 4: Encode Categorical Variables\n",
        "# # We use LabelEncoder to convert categorical columns into numeric values\n",
        "# label_encoder = LabelEncoder()\n",
        "\n",
        "# # Encoding 'Gender', 'Married', 'Education', 'Self_Employed', 'Property_Area'\n",
        "# df['Gender'] = label_encoder.fit_transform(df['Gender'])\n",
        "# df['Married'] = label_encoder.fit_transform(df['Married'])\n",
        "# df['Education'] = label_encoder.fit_transform(df['Education'])\n",
        "# df['Self_Employed'] = label_encoder.fit_transform(df['Self_Employed'])\n",
        "# df['Property_Area'] = label_encoder.fit_transform(df['Property_Area'])\n",
        "\n",
        "# # Printing data after encoding\n",
        "# print(\"\\nData After Encoding:\\n\", df.head())\n"
      ],
      "metadata": {
        "id": "UK3rTeIWXLkm"
      },
      "execution_count": 46,
      "outputs": []
    },
    {
      "cell_type": "code",
      "source": [
        "# Step 5: Feature Scaling (Optional)\n",
        "# Scaling numerical features using StandardScaler for models that require normalized data.\n",
        "scaler = StandardScaler()\n",
        "\n",
        "# Selecting numerical columns for scaling\n",
        "numerical_cols = ['ApplicantIncome', 'CoapplicantIncome', 'LoanAmount', 'Loan_Amount_Term']\n",
        "\n",
        "# Scaling the selected columns\n",
        "df[numerical_cols] = scaler.fit_transform(df[numerical_cols])\n",
        "\n",
        "print(\"\\nData After Scaling:\\n\", df.head())"
      ],
      "metadata": {
        "id": "0VDO-W9yFDsA",
        "colab": {
          "base_uri": "https://localhost:8080/"
        },
        "outputId": "b890e72b-ff3f-4a31-82ff-d503bf3fef60"
      },
      "execution_count": 101,
      "outputs": [
        {
          "output_type": "stream",
          "name": "stdout",
          "text": [
            "\n",
            "Data After Scaling:\n",
            "     Loan_ID  Gender  Married Dependents  Education  Self_Employed  \\\n",
            "0  LP001002       1        0          0          0              0   \n",
            "1  LP001003       1        1          1          0              0   \n",
            "2  LP001005       1        1          0          0              1   \n",
            "3  LP001006       1        1          0          1              0   \n",
            "4  LP001008       1        0          0          0              0   \n",
            "\n",
            "   ApplicantIncome  CoapplicantIncome  LoanAmount  Loan_Amount_Term  \\\n",
            "0         0.072991          -0.554487   -0.211241          0.273231   \n",
            "1        -0.134412          -0.038732   -0.211241          0.273231   \n",
            "2        -0.393747          -0.554487   -0.948996          0.273231   \n",
            "3        -0.462062           0.251980   -0.306435          0.273231   \n",
            "4         0.097728          -0.554487   -0.056551          0.273231   \n",
            "\n",
            "   Credit_History  Property_Area  Loan_Status  \n",
            "0             1.0              2            1  \n",
            "1             1.0              0            0  \n",
            "2             1.0              2            1  \n",
            "3             1.0              2            1  \n",
            "4             1.0              2            1  \n"
          ]
        }
      ]
    },
    {
      "source": [
        "# Feature Selection using Random Forest Feature Importance\n",
        "from sklearn.ensemble import RandomForestClassifier\n",
        "from sklearn.model_selection import train_test_split\n",
        "from sklearn.preprocessing import LabelEncoder\n",
        "import pandas as pd\n",
        "\n",
        "# Assume 'df' is your dataset, and 'Loan_Status' is the target variable\n",
        "\n",
        "# Encode categorical variables like 'Gender', 'Married', etc.\n",
        "le = LabelEncoder()\n",
        "df['Gender'] = le.fit_transform(df['Gender'])\n",
        "df['Married'] = le.fit_transform(df['Married'])\n",
        "df['Education'] = le.fit_transform(df['Education'])\n",
        "df['Self_Employed'] = le.fit_transform(df['Self_Employed'])\n",
        "df['Property_Area'] = le.fit_transform(df['Property_Area'])\n",
        "df['Dependents'] = le.fit_transform(df['Dependents'])"
      ],
      "cell_type": "code",
      "metadata": {
        "id": "KpC9O0T9adJv"
      },
      "execution_count": 62,
      "outputs": []
    },
    {
      "cell_type": "code",
      "source": [
        "# Drop the 'Loan_ID' column as it's not relevant for prediction\n",
        "df = df.drop('Loan_ID', axis=1)  # Assuming 'Loan_ID' is the problematic column\n",
        "\n",
        "# Define features and target\n",
        "X = df.drop('Loan_Status', axis=1)  # Features\n",
        "y = df['Loan_Status']  # Target\n",
        "\n",
        "# Split data into training and testing sets\n",
        "X_train, X_test, y_train, y_test = train_test_split(X, y, test_size=0.2, random_state=42)\n"
      ],
      "metadata": {
        "id": "HDxFj09ma-PU"
      },
      "execution_count": 63,
      "outputs": []
    },
    {
      "cell_type": "code",
      "source": [
        "# Train a Random Forest model\n",
        "rf = RandomForestClassifier(random_state=42)\n",
        "rf.fit(X_train, y_train)"
      ],
      "metadata": {
        "colab": {
          "base_uri": "https://localhost:8080/",
          "height": 80
        },
        "id": "gDyOmt0Ja93M",
        "outputId": "93369bc5-f6b9-4f42-bd4f-7c797838b1d6"
      },
      "execution_count": 64,
      "outputs": [
        {
          "output_type": "execute_result",
          "data": {
            "text/plain": [
              "RandomForestClassifier(random_state=42)"
            ],
            "text/html": [
              "<style>#sk-container-id-2 {\n",
              "  /* Definition of color scheme common for light and dark mode */\n",
              "  --sklearn-color-text: black;\n",
              "  --sklearn-color-line: gray;\n",
              "  /* Definition of color scheme for unfitted estimators */\n",
              "  --sklearn-color-unfitted-level-0: #fff5e6;\n",
              "  --sklearn-color-unfitted-level-1: #f6e4d2;\n",
              "  --sklearn-color-unfitted-level-2: #ffe0b3;\n",
              "  --sklearn-color-unfitted-level-3: chocolate;\n",
              "  /* Definition of color scheme for fitted estimators */\n",
              "  --sklearn-color-fitted-level-0: #f0f8ff;\n",
              "  --sklearn-color-fitted-level-1: #d4ebff;\n",
              "  --sklearn-color-fitted-level-2: #b3dbfd;\n",
              "  --sklearn-color-fitted-level-3: cornflowerblue;\n",
              "\n",
              "  /* Specific color for light theme */\n",
              "  --sklearn-color-text-on-default-background: var(--sg-text-color, var(--theme-code-foreground, var(--jp-content-font-color1, black)));\n",
              "  --sklearn-color-background: var(--sg-background-color, var(--theme-background, var(--jp-layout-color0, white)));\n",
              "  --sklearn-color-border-box: var(--sg-text-color, var(--theme-code-foreground, var(--jp-content-font-color1, black)));\n",
              "  --sklearn-color-icon: #696969;\n",
              "\n",
              "  @media (prefers-color-scheme: dark) {\n",
              "    /* Redefinition of color scheme for dark theme */\n",
              "    --sklearn-color-text-on-default-background: var(--sg-text-color, var(--theme-code-foreground, var(--jp-content-font-color1, white)));\n",
              "    --sklearn-color-background: var(--sg-background-color, var(--theme-background, var(--jp-layout-color0, #111)));\n",
              "    --sklearn-color-border-box: var(--sg-text-color, var(--theme-code-foreground, var(--jp-content-font-color1, white)));\n",
              "    --sklearn-color-icon: #878787;\n",
              "  }\n",
              "}\n",
              "\n",
              "#sk-container-id-2 {\n",
              "  color: var(--sklearn-color-text);\n",
              "}\n",
              "\n",
              "#sk-container-id-2 pre {\n",
              "  padding: 0;\n",
              "}\n",
              "\n",
              "#sk-container-id-2 input.sk-hidden--visually {\n",
              "  border: 0;\n",
              "  clip: rect(1px 1px 1px 1px);\n",
              "  clip: rect(1px, 1px, 1px, 1px);\n",
              "  height: 1px;\n",
              "  margin: -1px;\n",
              "  overflow: hidden;\n",
              "  padding: 0;\n",
              "  position: absolute;\n",
              "  width: 1px;\n",
              "}\n",
              "\n",
              "#sk-container-id-2 div.sk-dashed-wrapped {\n",
              "  border: 1px dashed var(--sklearn-color-line);\n",
              "  margin: 0 0.4em 0.5em 0.4em;\n",
              "  box-sizing: border-box;\n",
              "  padding-bottom: 0.4em;\n",
              "  background-color: var(--sklearn-color-background);\n",
              "}\n",
              "\n",
              "#sk-container-id-2 div.sk-container {\n",
              "  /* jupyter's `normalize.less` sets `[hidden] { display: none; }`\n",
              "     but bootstrap.min.css set `[hidden] { display: none !important; }`\n",
              "     so we also need the `!important` here to be able to override the\n",
              "     default hidden behavior on the sphinx rendered scikit-learn.org.\n",
              "     See: https://github.com/scikit-learn/scikit-learn/issues/21755 */\n",
              "  display: inline-block !important;\n",
              "  position: relative;\n",
              "}\n",
              "\n",
              "#sk-container-id-2 div.sk-text-repr-fallback {\n",
              "  display: none;\n",
              "}\n",
              "\n",
              "div.sk-parallel-item,\n",
              "div.sk-serial,\n",
              "div.sk-item {\n",
              "  /* draw centered vertical line to link estimators */\n",
              "  background-image: linear-gradient(var(--sklearn-color-text-on-default-background), var(--sklearn-color-text-on-default-background));\n",
              "  background-size: 2px 100%;\n",
              "  background-repeat: no-repeat;\n",
              "  background-position: center center;\n",
              "}\n",
              "\n",
              "/* Parallel-specific style estimator block */\n",
              "\n",
              "#sk-container-id-2 div.sk-parallel-item::after {\n",
              "  content: \"\";\n",
              "  width: 100%;\n",
              "  border-bottom: 2px solid var(--sklearn-color-text-on-default-background);\n",
              "  flex-grow: 1;\n",
              "}\n",
              "\n",
              "#sk-container-id-2 div.sk-parallel {\n",
              "  display: flex;\n",
              "  align-items: stretch;\n",
              "  justify-content: center;\n",
              "  background-color: var(--sklearn-color-background);\n",
              "  position: relative;\n",
              "}\n",
              "\n",
              "#sk-container-id-2 div.sk-parallel-item {\n",
              "  display: flex;\n",
              "  flex-direction: column;\n",
              "}\n",
              "\n",
              "#sk-container-id-2 div.sk-parallel-item:first-child::after {\n",
              "  align-self: flex-end;\n",
              "  width: 50%;\n",
              "}\n",
              "\n",
              "#sk-container-id-2 div.sk-parallel-item:last-child::after {\n",
              "  align-self: flex-start;\n",
              "  width: 50%;\n",
              "}\n",
              "\n",
              "#sk-container-id-2 div.sk-parallel-item:only-child::after {\n",
              "  width: 0;\n",
              "}\n",
              "\n",
              "/* Serial-specific style estimator block */\n",
              "\n",
              "#sk-container-id-2 div.sk-serial {\n",
              "  display: flex;\n",
              "  flex-direction: column;\n",
              "  align-items: center;\n",
              "  background-color: var(--sklearn-color-background);\n",
              "  padding-right: 1em;\n",
              "  padding-left: 1em;\n",
              "}\n",
              "\n",
              "\n",
              "/* Toggleable style: style used for estimator/Pipeline/ColumnTransformer box that is\n",
              "clickable and can be expanded/collapsed.\n",
              "- Pipeline and ColumnTransformer use this feature and define the default style\n",
              "- Estimators will overwrite some part of the style using the `sk-estimator` class\n",
              "*/\n",
              "\n",
              "/* Pipeline and ColumnTransformer style (default) */\n",
              "\n",
              "#sk-container-id-2 div.sk-toggleable {\n",
              "  /* Default theme specific background. It is overwritten whether we have a\n",
              "  specific estimator or a Pipeline/ColumnTransformer */\n",
              "  background-color: var(--sklearn-color-background);\n",
              "}\n",
              "\n",
              "/* Toggleable label */\n",
              "#sk-container-id-2 label.sk-toggleable__label {\n",
              "  cursor: pointer;\n",
              "  display: block;\n",
              "  width: 100%;\n",
              "  margin-bottom: 0;\n",
              "  padding: 0.5em;\n",
              "  box-sizing: border-box;\n",
              "  text-align: center;\n",
              "}\n",
              "\n",
              "#sk-container-id-2 label.sk-toggleable__label-arrow:before {\n",
              "  /* Arrow on the left of the label */\n",
              "  content: \"▸\";\n",
              "  float: left;\n",
              "  margin-right: 0.25em;\n",
              "  color: var(--sklearn-color-icon);\n",
              "}\n",
              "\n",
              "#sk-container-id-2 label.sk-toggleable__label-arrow:hover:before {\n",
              "  color: var(--sklearn-color-text);\n",
              "}\n",
              "\n",
              "/* Toggleable content - dropdown */\n",
              "\n",
              "#sk-container-id-2 div.sk-toggleable__content {\n",
              "  max-height: 0;\n",
              "  max-width: 0;\n",
              "  overflow: hidden;\n",
              "  text-align: left;\n",
              "  /* unfitted */\n",
              "  background-color: var(--sklearn-color-unfitted-level-0);\n",
              "}\n",
              "\n",
              "#sk-container-id-2 div.sk-toggleable__content.fitted {\n",
              "  /* fitted */\n",
              "  background-color: var(--sklearn-color-fitted-level-0);\n",
              "}\n",
              "\n",
              "#sk-container-id-2 div.sk-toggleable__content pre {\n",
              "  margin: 0.2em;\n",
              "  border-radius: 0.25em;\n",
              "  color: var(--sklearn-color-text);\n",
              "  /* unfitted */\n",
              "  background-color: var(--sklearn-color-unfitted-level-0);\n",
              "}\n",
              "\n",
              "#sk-container-id-2 div.sk-toggleable__content.fitted pre {\n",
              "  /* unfitted */\n",
              "  background-color: var(--sklearn-color-fitted-level-0);\n",
              "}\n",
              "\n",
              "#sk-container-id-2 input.sk-toggleable__control:checked~div.sk-toggleable__content {\n",
              "  /* Expand drop-down */\n",
              "  max-height: 200px;\n",
              "  max-width: 100%;\n",
              "  overflow: auto;\n",
              "}\n",
              "\n",
              "#sk-container-id-2 input.sk-toggleable__control:checked~label.sk-toggleable__label-arrow:before {\n",
              "  content: \"▾\";\n",
              "}\n",
              "\n",
              "/* Pipeline/ColumnTransformer-specific style */\n",
              "\n",
              "#sk-container-id-2 div.sk-label input.sk-toggleable__control:checked~label.sk-toggleable__label {\n",
              "  color: var(--sklearn-color-text);\n",
              "  background-color: var(--sklearn-color-unfitted-level-2);\n",
              "}\n",
              "\n",
              "#sk-container-id-2 div.sk-label.fitted input.sk-toggleable__control:checked~label.sk-toggleable__label {\n",
              "  background-color: var(--sklearn-color-fitted-level-2);\n",
              "}\n",
              "\n",
              "/* Estimator-specific style */\n",
              "\n",
              "/* Colorize estimator box */\n",
              "#sk-container-id-2 div.sk-estimator input.sk-toggleable__control:checked~label.sk-toggleable__label {\n",
              "  /* unfitted */\n",
              "  background-color: var(--sklearn-color-unfitted-level-2);\n",
              "}\n",
              "\n",
              "#sk-container-id-2 div.sk-estimator.fitted input.sk-toggleable__control:checked~label.sk-toggleable__label {\n",
              "  /* fitted */\n",
              "  background-color: var(--sklearn-color-fitted-level-2);\n",
              "}\n",
              "\n",
              "#sk-container-id-2 div.sk-label label.sk-toggleable__label,\n",
              "#sk-container-id-2 div.sk-label label {\n",
              "  /* The background is the default theme color */\n",
              "  color: var(--sklearn-color-text-on-default-background);\n",
              "}\n",
              "\n",
              "/* On hover, darken the color of the background */\n",
              "#sk-container-id-2 div.sk-label:hover label.sk-toggleable__label {\n",
              "  color: var(--sklearn-color-text);\n",
              "  background-color: var(--sklearn-color-unfitted-level-2);\n",
              "}\n",
              "\n",
              "/* Label box, darken color on hover, fitted */\n",
              "#sk-container-id-2 div.sk-label.fitted:hover label.sk-toggleable__label.fitted {\n",
              "  color: var(--sklearn-color-text);\n",
              "  background-color: var(--sklearn-color-fitted-level-2);\n",
              "}\n",
              "\n",
              "/* Estimator label */\n",
              "\n",
              "#sk-container-id-2 div.sk-label label {\n",
              "  font-family: monospace;\n",
              "  font-weight: bold;\n",
              "  display: inline-block;\n",
              "  line-height: 1.2em;\n",
              "}\n",
              "\n",
              "#sk-container-id-2 div.sk-label-container {\n",
              "  text-align: center;\n",
              "}\n",
              "\n",
              "/* Estimator-specific */\n",
              "#sk-container-id-2 div.sk-estimator {\n",
              "  font-family: monospace;\n",
              "  border: 1px dotted var(--sklearn-color-border-box);\n",
              "  border-radius: 0.25em;\n",
              "  box-sizing: border-box;\n",
              "  margin-bottom: 0.5em;\n",
              "  /* unfitted */\n",
              "  background-color: var(--sklearn-color-unfitted-level-0);\n",
              "}\n",
              "\n",
              "#sk-container-id-2 div.sk-estimator.fitted {\n",
              "  /* fitted */\n",
              "  background-color: var(--sklearn-color-fitted-level-0);\n",
              "}\n",
              "\n",
              "/* on hover */\n",
              "#sk-container-id-2 div.sk-estimator:hover {\n",
              "  /* unfitted */\n",
              "  background-color: var(--sklearn-color-unfitted-level-2);\n",
              "}\n",
              "\n",
              "#sk-container-id-2 div.sk-estimator.fitted:hover {\n",
              "  /* fitted */\n",
              "  background-color: var(--sklearn-color-fitted-level-2);\n",
              "}\n",
              "\n",
              "/* Specification for estimator info (e.g. \"i\" and \"?\") */\n",
              "\n",
              "/* Common style for \"i\" and \"?\" */\n",
              "\n",
              ".sk-estimator-doc-link,\n",
              "a:link.sk-estimator-doc-link,\n",
              "a:visited.sk-estimator-doc-link {\n",
              "  float: right;\n",
              "  font-size: smaller;\n",
              "  line-height: 1em;\n",
              "  font-family: monospace;\n",
              "  background-color: var(--sklearn-color-background);\n",
              "  border-radius: 1em;\n",
              "  height: 1em;\n",
              "  width: 1em;\n",
              "  text-decoration: none !important;\n",
              "  margin-left: 1ex;\n",
              "  /* unfitted */\n",
              "  border: var(--sklearn-color-unfitted-level-1) 1pt solid;\n",
              "  color: var(--sklearn-color-unfitted-level-1);\n",
              "}\n",
              "\n",
              ".sk-estimator-doc-link.fitted,\n",
              "a:link.sk-estimator-doc-link.fitted,\n",
              "a:visited.sk-estimator-doc-link.fitted {\n",
              "  /* fitted */\n",
              "  border: var(--sklearn-color-fitted-level-1) 1pt solid;\n",
              "  color: var(--sklearn-color-fitted-level-1);\n",
              "}\n",
              "\n",
              "/* On hover */\n",
              "div.sk-estimator:hover .sk-estimator-doc-link:hover,\n",
              ".sk-estimator-doc-link:hover,\n",
              "div.sk-label-container:hover .sk-estimator-doc-link:hover,\n",
              ".sk-estimator-doc-link:hover {\n",
              "  /* unfitted */\n",
              "  background-color: var(--sklearn-color-unfitted-level-3);\n",
              "  color: var(--sklearn-color-background);\n",
              "  text-decoration: none;\n",
              "}\n",
              "\n",
              "div.sk-estimator.fitted:hover .sk-estimator-doc-link.fitted:hover,\n",
              ".sk-estimator-doc-link.fitted:hover,\n",
              "div.sk-label-container:hover .sk-estimator-doc-link.fitted:hover,\n",
              ".sk-estimator-doc-link.fitted:hover {\n",
              "  /* fitted */\n",
              "  background-color: var(--sklearn-color-fitted-level-3);\n",
              "  color: var(--sklearn-color-background);\n",
              "  text-decoration: none;\n",
              "}\n",
              "\n",
              "/* Span, style for the box shown on hovering the info icon */\n",
              ".sk-estimator-doc-link span {\n",
              "  display: none;\n",
              "  z-index: 9999;\n",
              "  position: relative;\n",
              "  font-weight: normal;\n",
              "  right: .2ex;\n",
              "  padding: .5ex;\n",
              "  margin: .5ex;\n",
              "  width: min-content;\n",
              "  min-width: 20ex;\n",
              "  max-width: 50ex;\n",
              "  color: var(--sklearn-color-text);\n",
              "  box-shadow: 2pt 2pt 4pt #999;\n",
              "  /* unfitted */\n",
              "  background: var(--sklearn-color-unfitted-level-0);\n",
              "  border: .5pt solid var(--sklearn-color-unfitted-level-3);\n",
              "}\n",
              "\n",
              ".sk-estimator-doc-link.fitted span {\n",
              "  /* fitted */\n",
              "  background: var(--sklearn-color-fitted-level-0);\n",
              "  border: var(--sklearn-color-fitted-level-3);\n",
              "}\n",
              "\n",
              ".sk-estimator-doc-link:hover span {\n",
              "  display: block;\n",
              "}\n",
              "\n",
              "/* \"?\"-specific style due to the `<a>` HTML tag */\n",
              "\n",
              "#sk-container-id-2 a.estimator_doc_link {\n",
              "  float: right;\n",
              "  font-size: 1rem;\n",
              "  line-height: 1em;\n",
              "  font-family: monospace;\n",
              "  background-color: var(--sklearn-color-background);\n",
              "  border-radius: 1rem;\n",
              "  height: 1rem;\n",
              "  width: 1rem;\n",
              "  text-decoration: none;\n",
              "  /* unfitted */\n",
              "  color: var(--sklearn-color-unfitted-level-1);\n",
              "  border: var(--sklearn-color-unfitted-level-1) 1pt solid;\n",
              "}\n",
              "\n",
              "#sk-container-id-2 a.estimator_doc_link.fitted {\n",
              "  /* fitted */\n",
              "  border: var(--sklearn-color-fitted-level-1) 1pt solid;\n",
              "  color: var(--sklearn-color-fitted-level-1);\n",
              "}\n",
              "\n",
              "/* On hover */\n",
              "#sk-container-id-2 a.estimator_doc_link:hover {\n",
              "  /* unfitted */\n",
              "  background-color: var(--sklearn-color-unfitted-level-3);\n",
              "  color: var(--sklearn-color-background);\n",
              "  text-decoration: none;\n",
              "}\n",
              "\n",
              "#sk-container-id-2 a.estimator_doc_link.fitted:hover {\n",
              "  /* fitted */\n",
              "  background-color: var(--sklearn-color-fitted-level-3);\n",
              "}\n",
              "</style><div id=\"sk-container-id-2\" class=\"sk-top-container\"><div class=\"sk-text-repr-fallback\"><pre>RandomForestClassifier(random_state=42)</pre><b>In a Jupyter environment, please rerun this cell to show the HTML representation or trust the notebook. <br />On GitHub, the HTML representation is unable to render, please try loading this page with nbviewer.org.</b></div><div class=\"sk-container\" hidden><div class=\"sk-item\"><div class=\"sk-estimator fitted sk-toggleable\"><input class=\"sk-toggleable__control sk-hidden--visually\" id=\"sk-estimator-id-2\" type=\"checkbox\" checked><label for=\"sk-estimator-id-2\" class=\"sk-toggleable__label fitted sk-toggleable__label-arrow fitted\">&nbsp;&nbsp;RandomForestClassifier<a class=\"sk-estimator-doc-link fitted\" rel=\"noreferrer\" target=\"_blank\" href=\"https://scikit-learn.org/1.5/modules/generated/sklearn.ensemble.RandomForestClassifier.html\">?<span>Documentation for RandomForestClassifier</span></a><span class=\"sk-estimator-doc-link fitted\">i<span>Fitted</span></span></label><div class=\"sk-toggleable__content fitted\"><pre>RandomForestClassifier(random_state=42)</pre></div> </div></div></div></div>"
            ]
          },
          "metadata": {},
          "execution_count": 64
        }
      ]
    },
    {
      "cell_type": "code",
      "source": [
        "# Get feature importance scores\n",
        "feature_importances = pd.Series(rf.feature_importances_, index=X.columns).sort_values(ascending=False)\n",
        "\n",
        "# Select the top features based on importance\n",
        "selected_features = feature_importances[feature_importances > 0.05].index  # Example threshold: 0.05\n",
        "\n",
        "print(\"\\nSelected Features Based on Importance:\\n\", selected_features)\n"
      ],
      "metadata": {
        "colab": {
          "base_uri": "https://localhost:8080/"
        },
        "id": "CmG6UeI9VmUG",
        "outputId": "251efd25-430f-49b4-e363-693fb8d018e8"
      },
      "execution_count": 65,
      "outputs": [
        {
          "output_type": "stream",
          "name": "stdout",
          "text": [
            "\n",
            "Selected Features Based on Importance:\n",
            " Index(['Credit_History', 'ApplicantIncome', 'LoanAmount', 'CoapplicantIncome',\n",
            "       'Loan_Amount_Term', 'Dependents', 'Property_Area'],\n",
            "      dtype='object')\n"
          ]
        }
      ]
    },
    {
      "cell_type": "code",
      "source": [
        "# Splitting the Data\n",
        "# Split the data into training and testing sets.\n",
        "from sklearn.model_selection import train_test_split\n",
        "\n",
        "# Define the selected features and target variable\n",
        "selected_features = ['Credit_History', 'ApplicantIncome', 'LoanAmount',\n",
        "                     'CoapplicantIncome', 'Loan_Amount_Term',\n",
        "                     'Dependents', 'Property_Area']\n",
        "\n",
        "# Features (X) and Target (y)\n",
        "X = df[selected_features]  # Independent variables\n",
        "y = df['Loan_Status']      # Dependent variable\n",
        "\n",
        "# Split the dataset into training and testing sets\n",
        "X_train, X_test, y_train, y_test = train_test_split(X, y, test_size=0.2, random_state=42)"
      ],
      "metadata": {
        "id": "sCukOJafVmLP"
      },
      "execution_count": 66,
      "outputs": []
    },
    {
      "cell_type": "code",
      "source": [
        "# Verify the shapes of the splits\n",
        "print(\"Training Features Shape:\", X_train.shape)\n",
        "print(\"Testing Features Shape:\", X_test.shape)\n",
        "print(\"Training Target Shape:\", y_train.shape)\n",
        "print(\"Testing Target Shape:\", y_test.shape)\n"
      ],
      "metadata": {
        "colab": {
          "base_uri": "https://localhost:8080/"
        },
        "id": "63EkaSSMeWJM",
        "outputId": "ed1a5b3d-c777-480f-adee-16acb450b290"
      },
      "execution_count": 67,
      "outputs": [
        {
          "output_type": "stream",
          "name": "stdout",
          "text": [
            "Training Features Shape: (491, 7)\n",
            "Testing Features Shape: (123, 7)\n",
            "Training Target Shape: (491,)\n",
            "Testing Target Shape: (123,)\n"
          ]
        }
      ]
    },
    {
      "cell_type": "code",
      "source": [
        "# Solution 1: Handle Missing Values with an Imputer\n",
        "from sklearn.impute import SimpleImputer\n",
        "\n",
        "# Impute missing values for numerical and categorical features\n",
        "imputer = SimpleImputer(strategy=\"median\")  # For numerical columns\n",
        "X_train = imputer.fit_transform(X_train)\n",
        "X_test = imputer.transform(X_test)\n"
      ],
      "metadata": {
        "id": "H5t66GX-gQBL"
      },
      "execution_count": 69,
      "outputs": []
    },
    {
      "cell_type": "code",
      "source": [
        "# Solution 2: Use Models that Handle NaN Values\n",
        "from sklearn.ensemble import HistGradientBoostingClassifier\n",
        "from sklearn.metrics import accuracy_score, classification_report, confusion_matrix\n",
        "\n",
        "# Initialize the model\n",
        "hist_model = HistGradientBoostingClassifier(random_state=42)\n",
        "\n",
        "# Train the model\n",
        "hist_model.fit(X_train, y_train)\n",
        "\n",
        "# Predict and evaluate\n",
        "hist_pred = hist_model.predict(X_test)\n",
        "print(\"HistGradientBoostingClassifier Model:\")\n",
        "print(\"Accuracy:\", accuracy_score(y_test, hist_pred))\n",
        "print(\"Classification Report:\\n\", classification_report(y_test, hist_pred))\n",
        "print(\"Confusion Matrix:\\n\", confusion_matrix(y_test, hist_pred))\n"
      ],
      "metadata": {
        "colab": {
          "base_uri": "https://localhost:8080/"
        },
        "id": "w8hEihVXgk27",
        "outputId": "3c42f1d9-31b5-47d2-dbba-a6c05533b6f1"
      },
      "execution_count": 70,
      "outputs": [
        {
          "output_type": "stream",
          "name": "stdout",
          "text": [
            "HistGradientBoostingClassifier Model:\n",
            "Accuracy: 0.7560975609756098\n",
            "Classification Report:\n",
            "               precision    recall  f1-score   support\n",
            "\n",
            "           N       0.74      0.47      0.57        43\n",
            "           Y       0.76      0.91      0.83        80\n",
            "\n",
            "    accuracy                           0.76       123\n",
            "   macro avg       0.75      0.69      0.70       123\n",
            "weighted avg       0.75      0.76      0.74       123\n",
            "\n",
            "Confusion Matrix:\n",
            " [[20 23]\n",
            " [ 7 73]]\n"
          ]
        }
      ]
    },
    {
      "cell_type": "code",
      "source": [
        "# Model Training: Train a machine learning model (e.g., Logistic Regression, Decision Tree, or Random Forest).\n",
        "from sklearn.ensemble import RandomForestClassifier\n",
        "from sklearn.linear_model import LogisticRegression\n",
        "from sklearn.metrics import accuracy_score, classification_report, confusion_matrix\n",
        "\n",
        "# Initialize models\n",
        "logistic_model = LogisticRegression(random_state=42, max_iter=1000)\n",
        "random_forest_model = RandomForestClassifier(random_state=42)\n",
        "\n",
        "# Train Logistic Regression\n",
        "logistic_model.fit(X_train, y_train)\n",
        "logistic_pred = logistic_model.predict(X_test)\n",
        "\n",
        "# Train Random Forest\n",
        "random_forest_model.fit(X_train, y_train)\n",
        "random_forest_pred = random_forest_model.predict(X_test)\n"
      ],
      "metadata": {
        "id": "SDgHCo_MfDRL"
      },
      "execution_count": 73,
      "outputs": []
    },
    {
      "cell_type": "code",
      "source": [
        "# # Evaluate Logistic Regression\n",
        "# print(\"Logistic Regression Model:\")\n",
        "# print(\"Accuracy:\", accuracy_score(y_test, logistic_pred))\n",
        "# print(\"Classification Report:\\n\", classification_report(y_test, logistic_pred))\n",
        "# print(\"Confusion Matrix:\\n\", confusion_matrix(y_test, logistic_pred))\n",
        "\n",
        "# # Evaluate Random Forest\n",
        "# print(\"\\nRandom Forest Model:\")\n",
        "# print(\"Accuracy:\", accuracy_score(y_test, random_forest_pred))\n",
        "# print(\"Classification Report:\\n\", classification_report(y_test, random_forest_pred))\n",
        "# print(\"Confusion Matrix:\\n\", confusion_matrix(y_test, random_forest_pred))"
      ],
      "metadata": {
        "id": "dlkVjXQdfRcz"
      },
      "execution_count": 82,
      "outputs": []
    },
    {
      "source": [
        "# Model Evaluation\n",
        "# Evaluate the model's performance using appropriate metrics.\n",
        "from sklearn.metrics import accuracy_score, precision_score, recall_score, f1_score, confusion_matrix, classification_report\n",
        "import matplotlib.pyplot as plt\n",
        "import seaborn as sns\n",
        "\n",
        "# Function to evaluate model performance\n",
        "def evaluate_model(model_name, y_test, y_pred):\n",
        "    print(f\"\\nEvaluation Metrics for {model_name}:\")\n",
        "    print(f\"Accuracy: {accuracy_score(y_test, y_pred):.4f}\")\n",
        "    print(f\"Precision: {precision_score(y_test, y_pred, pos_label='Y'):.4f}\")\n",
        "    print(f\"Recall: {recall_score(y_test, y_pred, pos_label='Y'):.4f}\")\n",
        "    print(f\"F1 Score: {f1_score(y_test, y_pred, pos_label='Y'):.4f}\")\n",
        "    print(\"\\nClassification Report:\\n\", classification_report(y_test, y_pred))\n",
        "    print(\"Confusion Matrix:\\n\")\n",
        "\n",
        "    # Plotting the confusion matrix\n",
        "    cm = confusion_matrix(y_test, y_pred)\n",
        "    sns.heatmap(cm, annot=True, fmt='d', cmap='Blues', xticklabels=[\"N\", \"Y\"], yticklabels=[\"N\", \"Y\"])\n",
        "    plt.xlabel(\"Predicted\")\n",
        "    plt.ylabel(\"Actual\")\n",
        "    plt.title(f\"Confusion Matrix for {model_name}\")\n",
        "    plt.show()\n",
        "\n",
        "# Evaluate Logistic Regression Model\n",
        "evaluate_model(\"Logistic Regression\", y_test, logistic_pred)\n",
        "\n",
        "# Evaluate Random Forest Model\n",
        "evaluate_model(\"Random Forest\", y_test, random_forest_pred)\n"
      ],
      "cell_type": "code",
      "metadata": {
        "colab": {
          "base_uri": "https://localhost:8080/",
          "height": 1000
        },
        "id": "PJb9AMmekac6",
        "outputId": "c3166e9c-691e-4306-e93d-2a9d653bfa7a"
      },
      "execution_count": 102,
      "outputs": [
        {
          "output_type": "stream",
          "name": "stdout",
          "text": [
            "\n",
            "Evaluation Metrics for Logistic Regression:\n",
            "Accuracy: 0.7886\n",
            "Precision: 0.7596\n",
            "Recall: 0.9875\n",
            "F1 Score: 0.8587\n",
            "\n",
            "Classification Report:\n",
            "               precision    recall  f1-score   support\n",
            "\n",
            "           N       0.95      0.42      0.58        43\n",
            "           Y       0.76      0.99      0.86        80\n",
            "\n",
            "    accuracy                           0.79       123\n",
            "   macro avg       0.85      0.70      0.72       123\n",
            "weighted avg       0.83      0.79      0.76       123\n",
            "\n",
            "Confusion Matrix:\n",
            "\n"
          ]
        },
        {
          "output_type": "display_data",
          "data": {
            "text/plain": [
              "<Figure size 640x480 with 2 Axes>"
            ],
            "image/png": "[encoded data removed]"
          },
          "metadata": {}
        },
        {
          "output_type": "stream",
          "name": "stdout",
          "text": [
            "\n",
            "Evaluation Metrics for Random Forest:\n",
            "Accuracy: 0.7724\n",
            "Precision: 0.7653\n",
            "Recall: 0.9375\n",
            "F1 Score: 0.8427\n",
            "\n",
            "Classification Report:\n",
            "               precision    recall  f1-score   support\n",
            "\n",
            "           N       0.80      0.47      0.59        43\n",
            "           Y       0.77      0.94      0.84        80\n",
            "\n",
            "    accuracy                           0.77       123\n",
            "   macro avg       0.78      0.70      0.72       123\n",
            "weighted avg       0.78      0.77      0.75       123\n",
            "\n",
            "Confusion Matrix:\n",
            "\n"
          ]
        },
        {
          "output_type": "display_data",
          "data": {
            "text/plain": [
              "<Figure size 640x480 with 2 Axes>"
            ],
            "image/png": "[encoded data removed]"
          },
          "metadata": {}
        }
      ]
    },
    {
      "cell_type": "markdown",
      "source": [
        "# Observations\n",
        "1. Logistic Regression performs slightly better in accuracy but struggles with recall for class N.\n",
        "2. Random Forest achieves a better balance between precision and recall for both classes, especially improving recall for N.\n"
      ],
      "metadata": {
        "id": "EsH7FtP0iqzT"
      }
    },
    {
      "cell_type": "code",
      "source": [
        "# Model Tuning: Fine-tune the model to improve performance.\n",
        "from sklearn.model_selection import RandomizedSearchCV\n",
        "\n",
        "# Logistic Regression Hyperparameter Tuning (Optimized)\n",
        "logistic_params = {\n",
        "    'C': [0.1, 1, 10],\n",
        "    'solver': ['liblinear', 'lbfgs'],\n",
        "    'max_iter': [100, 500]\n",
        "}\n",
        "\n",
        "logistic_random_search = RandomizedSearchCV(\n",
        "    LogisticRegression(random_state=42),\n",
        "    param_distributions=logistic_params,\n",
        "    n_iter=5,  # Number of parameter combinations to try\n",
        "    scoring='accuracy',\n",
        "    cv=3,  # 3-fold cross-validation\n",
        "    verbose=1,\n",
        "    n_jobs=-1,\n",
        "    random_state=42\n",
        ")\n",
        "\n",
        "logistic_random_search.fit(X_train, y_train)\n",
        "best_logistic = logistic_random_search.best_estimator_\n",
        "print(\"\\nBest Parameters for Logistic Regression:\", logistic_random_search.best_params_)\n"
      ],
      "metadata": {
        "colab": {
          "base_uri": "https://localhost:8080/"
        },
        "id": "I4eGp2kRlbbs",
        "outputId": "7dc89184-41c7-417c-ab1f-4e1c88fffb75"
      },
      "execution_count": 84,
      "outputs": [
        {
          "output_type": "stream",
          "name": "stdout",
          "text": [
            "Fitting 3 folds for each of 5 candidates, totalling 15 fits\n",
            "\n",
            "Best Parameters for Logistic Regression: {'solver': 'liblinear', 'max_iter': 500, 'C': 10}\n"
          ]
        }
      ]
    },
    {
      "cell_type": "code",
      "source": [
        "# Random Forest Hyperparameter Tuning (Optimized)\n",
        "random_forest_params = {\n",
        "    'n_estimators': [50, 100],\n",
        "    'max_depth': [10, 20, None],\n",
        "    'min_samples_split': [2, 5],\n",
        "    'min_samples_leaf': [1, 2]\n",
        "}\n",
        "\n",
        "random_forest_random_search = RandomizedSearchCV(\n",
        "    RandomForestClassifier(random_state=42),\n",
        "    param_distributions=random_forest_params,\n",
        "    n_iter=10,  # Number of parameter combinations to try\n",
        "    scoring='accuracy',\n",
        "    cv=3,  # 3-fold cross-validation\n",
        "    verbose=1,\n",
        "    n_jobs=-1,\n",
        "    random_state=42\n",
        ")\n",
        "\n",
        "random_forest_random_search.fit(X_train, y_train)\n",
        "best_random_forest = random_forest_random_search.best_estimator_\n",
        "print(\"\\nBest Parameters for Random Forest:\", random_forest_random_search.best_params_)\n"
      ],
      "metadata": {
        "colab": {
          "base_uri": "https://localhost:8080/"
        },
        "id": "luEC8-yZnMHX",
        "outputId": "b0a77251-d734-4abf-d579-f50a4abb6aa7"
      },
      "execution_count": 85,
      "outputs": [
        {
          "output_type": "stream",
          "name": "stdout",
          "text": [
            "Fitting 3 folds for each of 10 candidates, totalling 30 fits\n",
            "\n",
            "Best Parameters for Random Forest: {'n_estimators': 100, 'min_samples_split': 2, 'min_samples_leaf': 2, 'max_depth': 20}\n"
          ]
        }
      ]
    },
    {
      "cell_type": "code",
      "source": [
        "# Evaluate the tuned models on the test set\n",
        "tuned_logistic_pred = best_logistic.predict(X_test)\n",
        "tuned_random_forest_pred = best_random_forest.predict(X_test)\n",
        "\n",
        "print(\"\\nEvaluation Metrics for Tuned Logistic Regression:\")\n",
        "evaluate_model(\"Tuned Logistic Regression\", y_test, tuned_logistic_pred)\n",
        "\n",
        "print(\"\\nEvaluation Metrics for Tuned Random Forest:\")\n",
        "evaluate_model(\"Tuned Random Forest\", y_test, tuned_random_forest_pred)\n"
      ],
      "metadata": {
        "colab": {
          "base_uri": "https://localhost:8080/",
          "height": 1000
        },
        "id": "ldG0qNqFnMEB",
        "outputId": "5802c987-344f-43e9-d4b0-0d40a062894f"
      },
      "execution_count": 103,
      "outputs": [
        {
          "output_type": "stream",
          "name": "stdout",
          "text": [
            "\n",
            "Evaluation Metrics for Tuned Logistic Regression:\n",
            "\n",
            "Evaluation Metrics for Tuned Logistic Regression:\n",
            "Accuracy: 0.7886\n",
            "Precision: 0.7596\n",
            "Recall: 0.9875\n",
            "F1 Score: 0.8587\n",
            "\n",
            "Classification Report:\n",
            "               precision    recall  f1-score   support\n",
            "\n",
            "           N       0.95      0.42      0.58        43\n",
            "           Y       0.76      0.99      0.86        80\n",
            "\n",
            "    accuracy                           0.79       123\n",
            "   macro avg       0.85      0.70      0.72       123\n",
            "weighted avg       0.83      0.79      0.76       123\n",
            "\n",
            "Confusion Matrix:\n",
            "\n"
          ]
        },
        {
          "output_type": "display_data",
          "data": {
            "text/plain": [
              "<Figure size 640x480 with 2 Axes>"
            ],
            "image/png": "[encoded data removed]"
          },
          "metadata": {}
        },
        {
          "output_type": "stream",
          "name": "stdout",
          "text": [
            "\n",
            "Evaluation Metrics for Tuned Random Forest:\n",
            "\n",
            "Evaluation Metrics for Tuned Random Forest:\n",
            "Accuracy: 0.7561\n",
            "Precision: 0.7500\n",
            "Recall: 0.9375\n",
            "F1 Score: 0.8333\n",
            "\n",
            "Classification Report:\n",
            "               precision    recall  f1-score   support\n",
            "\n",
            "           N       0.78      0.42      0.55        43\n",
            "           Y       0.75      0.94      0.83        80\n",
            "\n",
            "    accuracy                           0.76       123\n",
            "   macro avg       0.77      0.68      0.69       123\n",
            "weighted avg       0.76      0.76      0.73       123\n",
            "\n",
            "Confusion Matrix:\n",
            "\n"
          ]
        },
        {
          "output_type": "display_data",
          "data": {
            "text/plain": [
              "<Figure size 640x480 with 2 Axes>"
            ],
            "image/png": "[encoded data removed]"
          },
          "metadata": {}
        }
      ]
    },
    {
      "source": [
        "# ROC Curve and AUC\n",
        "# You may want to explore the ROC curve and AUC scores to get a better understanding of the trade-off between true positives and false positives.\n",
        "import matplotlib.pyplot as plt\n",
        "from sklearn.metrics import roc_curve, auc\n",
        "\n",
        "# Convert 'y_test' to numeric values: 'N' -> 0, 'Y' -> 1\n",
        "y_test_numeric = y_test.map({'N': 0, 'Y': 1})\n",
        "\n",
        "# Predict probabilities for the positive class (class '1')\n",
        "logistic_probs = best_logistic.predict_proba(X_test)[:, 1]\n",
        "random_forest_probs = best_random_forest.predict_proba(X_test)[:, 1]\n",
        "\n",
        "# Compute ROC curve for both models\n",
        "logistic_fpr, logistic_tpr, _ = roc_curve(y_test_numeric, logistic_probs)\n",
        "random_forest_fpr, random_forest_tpr, _ = roc_curve(y_test_numeric, random_forest_probs)\n",
        "\n",
        "# Compute AUC for both models\n",
        "logistic_auc = auc(logistic_fpr, logistic_tpr)\n",
        "random_forest_auc = auc(random_forest_fpr, random_forest_tpr)\n",
        "\n",
        "# Plot ROC curve\n",
        "plt.figure(figsize=(10, 6))\n",
        "\n",
        "# Plot for Logistic Regression\n",
        "plt.plot(logistic_fpr, logistic_tpr, color='blue', lw=2, label=f'Logistic Regression (AUC = {logistic_auc:.2f})')\n",
        "\n",
        "# Plot for Random Forest\n",
        "plt.plot(random_forest_fpr, random_forest_tpr, color='green', lw=2, label=f'Random Forest (AUC = {random_forest_auc:.2f})')\n",
        "\n",
        "# Plot diagonal line (Random classifier)\n",
        "plt.plot([0, 1], [0, 1], color='gray', linestyle='--')\n",
        "\n",
        "# Set axis limits to fit the graph at the origin\n",
        "plt.xlim([0.0, 1.0])\n",
        "plt.ylim([0.0, 1.05])\n",
        "\n",
        "# Labels and title\n",
        "plt.xlabel('False Positive Rate')\n",
        "plt.ylabel('True Positive Rate')\n",
        "plt.title('Receiver Operating Characteristic (ROC) Curve')\n",
        "plt.legend(loc='lower right')\n",
        "plt.grid(True)\n",
        "plt.show()\n",
        "\n",
        "# # Print AUC scores\n",
        "# print(f\"Logistic Regression AUC: {logistic_auc:.2f}\")\n",
        "# print(f\"Random Forest AUC: {random_forest_auc:.2f}\")\n"
      ],
      "cell_type": "code",
      "metadata": {
        "colab": {
          "base_uri": "https://localhost:8080/",
          "height": 564
        },
        "id": "gudOWaIXsDZy",
        "outputId": "db81a0a0-11f0-4ae1-952d-e32e3562076a"
      },
      "execution_count": 94,
      "outputs": [
        {
          "output_type": "display_data",
          "data": {
            "text/plain": [
              "<Figure size 1000x600 with 1 Axes>"
            ],
            "image/png": "[encoded data removed]"
          },
          "metadata": {}
        }
      ]
    },
    {
      "cell_type": "code",
      "source": [
        "# Print AUC scores\n",
        "print(f\"Logistic Regression AUC: {logistic_auc:.2f}\")\n",
        "print(f\"Random Forest AUC: {random_forest_auc:.2f}\")\n"
      ],
      "metadata": {
        "colab": {
          "base_uri": "https://localhost:8080/"
        },
        "id": "EMCx86gGqs-P",
        "outputId": "b9b8895f-c90f-49d4-c072-54001d0591b7"
      },
      "execution_count": 93,
      "outputs": [
        {
          "output_type": "stream",
          "name": "stdout",
          "text": [
            "Logistic Regression AUC: 0.76\n",
            "Random Forest AUC: 0.74\n"
          ]
        }
      ]
    }
  ]
}